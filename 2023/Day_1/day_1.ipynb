{
 "cells": [
  {
   "cell_type": "code",
   "execution_count": 26,
   "metadata": {},
   "outputs": [],
   "source": [
    "# import the text document with input \n",
    "path = 'day_1_input.txt'\n",
    "\n",
    "# using with statement to ensure the file is properly closed after being read\n",
    "with open(path, 'r') as file:\n",
    "    calibration_document = file.read() # file contents are now saved to a variable "
   ]
  },
  {
   "cell_type": "code",
   "execution_count": 27,
   "metadata": {},
   "outputs": [],
   "source": [
    "# create a method to look at each line of code to find the number we need\n",
    "def find_numbers(str):\n",
    "    for character in str:\n",
    "        if character.isdigit():\n",
    "            num_1 = character\n",
    "            break\n",
    "\n",
    "    # reverse the string to iterate through to find the last number \n",
    "    reverse_str = str[::-1]\n",
    "\n",
    "    for character in reverse_str:\n",
    "        if character.isdigit():\n",
    "            num_2 = character\n",
    "            break\n",
    "\n",
    "    final_num = int(num_1 + num_2) \n",
    "\n",
    "    return final_num "
   ]
  },
  {
   "cell_type": "code",
   "execution_count": 28,
   "metadata": {},
   "outputs": [],
   "source": [
    "# create a list to hold the numbers we find on each line\n",
    "calibration_values = list()\n",
    "\n",
    "# split the document by line and iterate through using the method created\n",
    "for line in calibration_document.splitlines():\n",
    "    num = find_numbers(line)\n",
    "    calibration_values.append(num)\n"
   ]
  },
  {
   "cell_type": "code",
   "execution_count": 29,
   "metadata": {},
   "outputs": [
    {
     "name": "stdout",
     "output_type": "stream",
     "text": [
      "Congratulations! Your calibration number is 54561\n"
     ]
    }
   ],
   "source": [
    "# iterate through the list of values to find the sum \n",
    "\n",
    "calibration_values_sum = 0\n",
    "\n",
    "for num in calibration_values:\n",
    "    calibration_values_sum += num\n",
    "\n",
    "print(f\"Congratulations! Your calibration number is {calibration_values_sum}\")"
   ]
  }
 ],
 "metadata": {
  "kernelspec": {
   "display_name": "base",
   "language": "python",
   "name": "python3"
  },
  "language_info": {
   "codemirror_mode": {
    "name": "ipython",
    "version": 3
   },
   "file_extension": ".py",
   "mimetype": "text/x-python",
   "name": "python",
   "nbconvert_exporter": "python",
   "pygments_lexer": "ipython3",
   "version": "3.11.5"
  }
 },
 "nbformat": 4,
 "nbformat_minor": 2
}
